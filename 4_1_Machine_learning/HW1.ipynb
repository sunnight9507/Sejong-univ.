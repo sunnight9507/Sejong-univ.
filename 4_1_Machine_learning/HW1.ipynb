{
 "cells": [
  {
   "cell_type": "markdown",
   "metadata": {},
   "source": [
    "# 기계학습 과제\n",
    "\n",
    "### 응용통계학과\n",
    "### 140104079\n",
    "### 권태양\n",
    "\n",
    "## HW1"
   ]
  },
  {
   "cell_type": "code",
   "execution_count": 13,
   "metadata": {},
   "outputs": [],
   "source": [
    "import pandas as pd\n",
    "import numpy as np\n",
    "import matplotlib.pyplot as plt\n",
    "import seaborn as sns\n",
    "import statsmodels.api as sm\n",
    "from sklearn.linear_model import LinearRegression\n",
    "\n",
    "%matplotlib inline \n",
    "import matplotlib.pyplot as plt"
   ]
  },
  {
   "cell_type": "code",
   "execution_count": 14,
   "metadata": {},
   "outputs": [],
   "source": [
    "df = pd.read_csv(\"SalaryData.csv\")"
   ]
  },
  {
   "cell_type": "code",
   "execution_count": 22,
   "metadata": {},
   "outputs": [
    {
     "data": {
      "text/plain": [
       "LinearRegression(copy_X=True, fit_intercept=True, n_jobs=None,\n",
       "         normalize=False)"
      ]
     },
     "execution_count": 22,
     "metadata": {},
     "output_type": "execute_result"
    }
   ],
   "source": [
    "lin_reg = LinearRegression()\n",
    "\n",
    "lin_reg.fit(np.array(df[\"YearsExperience\"]).reshape(-1,1), np.array(df[\"Salary\"]))"
   ]
  },
  {
   "cell_type": "code",
   "execution_count": 24,
   "metadata": {},
   "outputs": [
    {
     "data": {
      "text/plain": [
       "array([[ 1.1],\n",
       "       [ 1.3],\n",
       "       [ 1.5],\n",
       "       [ 2. ],\n",
       "       [ 2.2],\n",
       "       [ 2.9],\n",
       "       [ 3. ],\n",
       "       [ 3.2],\n",
       "       [ 3.2],\n",
       "       [ 3.7],\n",
       "       [ 3.9],\n",
       "       [ 4. ],\n",
       "       [ 4. ],\n",
       "       [ 4.1],\n",
       "       [ 4.5],\n",
       "       [ 4.9],\n",
       "       [ 5.1],\n",
       "       [ 5.3],\n",
       "       [ 5.9],\n",
       "       [ 6. ],\n",
       "       [ 6.8],\n",
       "       [ 7.1],\n",
       "       [ 7.9],\n",
       "       [ 8.2],\n",
       "       [ 8.7],\n",
       "       [ 9. ],\n",
       "       [ 9.5],\n",
       "       [ 9.6],\n",
       "       [10.3],\n",
       "       [10.5]])"
      ]
     },
     "execution_count": 24,
     "metadata": {},
     "output_type": "execute_result"
    }
   ],
   "source": [
    "np.array(df[\"YearsExperience\"]).reshape(-1,1)"
   ]
  },
  {
   "cell_type": "code",
   "execution_count": 25,
   "metadata": {},
   "outputs": [],
   "source": [
    "def compute_cost(n,m, points):\n",
    "    total_cost = 0\n",
    "    N = float(len(points))      # 왜 float로 casting 했는지 ? \n",
    "    \n",
    "    for i in range(len(points)):\n",
    "        x = points[i,0]\n",
    "        y = points[i,1]\n",
    "        total_cost += (y-(m*x+n))**2\n",
    "        \n",
    "    return total_cost/N    # 때에 따라 N은 없어도 됨."
   ]
  },
  {
   "cell_type": "code",
   "execution_count": 26,
   "metadata": {},
   "outputs": [],
   "source": [
    "def gradient_descent_runner(points, starting_m, starting_n, learning_rate, num_iterations):\n",
    "    \n",
    "    m = starting_m\n",
    "    n = starting_n\n",
    "    \n",
    "    cost_graph = []\n",
    "    \n",
    "    for i in range(num_iterations):\n",
    "        cost_graph.append(compute_cost(n,m,points))\n",
    "        m,n = step_gradient(m,n, points, learning_rate)\n",
    "        \n",
    "    return [m,n,cost_graph]\n",
    "\n",
    "\n",
    "def step_gradient(m_current, n_current, points, learning_rate):\n",
    "    m_gradient = 0 \n",
    "    n_gradient = 0 \n",
    "    N = float(len(points))\n",
    "    \n",
    "    for i in range(len(points)):\n",
    "        x = points[i,0]\n",
    "        y = points[i,1]\n",
    "        m_gradient += -(2/N)*x*(y-(m_current*x + n_current))\n",
    "        n_gradient += -(2/N)*(y-(m_current*x + n_current))\n",
    "        \n",
    "    m_updated = m_current - learning_rate * m_gradient \n",
    "    n_updated = n_current - learning_rate * n_gradient \n",
    "        \n",
    "    return m_updated, n_updated"
   ]
  },
  {
   "cell_type": "code",
   "execution_count": 27,
   "metadata": {},
   "outputs": [],
   "source": [
    "learning_rate = 0.01     # hyper parameter: alpha\n",
    "num_iterations = 1000     # hyper parameter: number of steps \n",
    "initial_m = 10      # initial guess for m \n",
    "initial_n = 4000      # initial guess for n "
   ]
  },
  {
   "cell_type": "code",
   "execution_count": 28,
   "metadata": {},
   "outputs": [],
   "source": [
    "x = np.array(points[:,0])\n",
    "y = np.array(points[:,1])"
   ]
  },
  {
   "cell_type": "code",
   "execution_count": 32,
   "metadata": {},
   "outputs": [
    {
     "data": {
      "image/png": "[encoded data removed]",
      "text/plain": [
       "<Figure size 432x288 with 1 Axes>"
      ]
     },
     "metadata": {
      "needs_background": "light"
     },
     "output_type": "display_data"
    }
   ],
   "source": [
    "points = np.array(df)\n",
    "fig = plt.figure()\n",
    "ax = fig.add_subplot(1,1,1)\n",
    "\n",
    "for i in range(0,1000,100):\n",
    "    m, n , cost_graph = gradient_descent_runner(points, initial_m, initial_n, learning_rate, i) # 100부터 100단위로 m,n 값 확인\n",
    "    pred = m*x + n \n",
    "    plt.scatter(x,y) # 산점도\n",
    "    plt.plot(x,pred,c = 'B',alpha = i/900) # 투명도를 점점 진하게"
   ]
  },
  {
   "cell_type": "markdown",
   "metadata": {},
   "source": [
    "## HW2"
   ]
  },
  {
   "cell_type": "code",
   "execution_count": 30,
   "metadata": {},
   "outputs": [],
   "source": [
    "from numpy.linalg import inv"
   ]
  },
  {
   "cell_type": "code",
   "execution_count": 31,
   "metadata": {},
   "outputs": [
    {
     "data": {
      "text/plain": [
       "array([[25792.20019867],\n",
       "       [ 9449.96232146]])"
      ]
     },
     "execution_count": 31,
     "metadata": {},
     "output_type": "execute_result"
    }
   ],
   "source": [
    "x = x.reshape(-1,1)\n",
    "Y = y.reshape(-1,1)\n",
    "x_0 = np.array([1,1,1,1,1,1,1,1,1,1,1,1,1,1,1,1,1,1,1,1,1,1,1,1,1,1,1,1,1,1]) \n",
    "x_0 = x_0.reshape(-1,1)\n",
    "x_0.shape\n",
    "X = np.hstack((x_0,x)) # 하나의 열이 1인 벡터와 x벡터 결합\n",
    "X\n",
    "\n",
    "X_transe = np.transpose(X)\n",
    "np.dot(inv(np.dot(X_transe,X)),np.dot(X_transe,Y)) # Theta 구하는 식"
   ]
  }
 ],
 "metadata": {
  "kernelspec": {
   "display_name": "Python 3",
   "language": "python",
   "name": "python3"
  },
  "language_info": {
   "codemirror_mode": {
    "name": "ipython",
    "version": 3
   },
   "file_extension": ".py",
   "mimetype": "text/x-python",
   "name": "python",
   "nbconvert_exporter": "python",
   "pygments_lexer": "ipython3",
   "version": "3.7.1"
  }
 },
 "nbformat": 4,
 "nbformat_minor": 2
}
