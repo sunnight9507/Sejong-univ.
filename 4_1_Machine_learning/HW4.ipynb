{
 "cells": [
  {
   "cell_type": "markdown",
   "metadata": {},
   "source": [
    "# K-means, Gaussian Mixture Model 직접 구현하기"
   ]
  },
  {
   "cell_type": "markdown",
   "metadata": {},
   "source": [
    "이번 과제에서는 Unsupervised Algorithm 의 대표적인 군집화 알고리즘 두개를 직접 구현해보도록 한다."
   ]
  },
  {
   "cell_type": "markdown",
   "metadata": {},
   "source": [
    "먼저 IRIS 데이터를 읽도록 하자 (IRIS데이터에는 레이블 값이 존재하나, 이번 과제에서는 레이블 값을 무시하고, 데이터포인트만 사용한다)"
   ]
  },
  {
   "cell_type": "code",
   "execution_count": 5,
   "metadata": {},
   "outputs": [],
   "source": [
    "from sklearn import datasets\n",
    "# import some data to play with\n",
    "iris = datasets.load_iris()\n",
    "X = iris.data[:, :2]  # we only take the first two features."
   ]
  },
  {
   "cell_type": "code",
   "execution_count": 6,
   "metadata": {},
   "outputs": [],
   "source": [
    "import matplotlib.pyplot as plt\n",
    "%matplotlib inline"
   ]
  },
  {
   "cell_type": "code",
   "execution_count": 7,
   "metadata": {},
   "outputs": [
    {
     "data": {
      "text/plain": [
       "<matplotlib.collections.PathCollection at 0x2263eb995f8>"
      ]
     },
     "execution_count": 7,
     "metadata": {},
     "output_type": "execute_result"
    },
    {
     "data": {
      "image/png": "[encoded data removed]",
      "text/plain": [
       "<Figure size 432x288 with 1 Axes>"
      ]
     },
     "metadata": {
      "needs_background": "light"
     },
     "output_type": "display_data"
    }
   ],
   "source": [
    "plt.scatter(X[:,0], X[:,1])"
   ]
  },
  {
   "cell_type": "markdown",
   "metadata": {},
   "source": [
    "을 군집화가 세개 있다고 가정하고, K-means 와 GMM으로 각 좌표가 어느 집단에 속하는지 추측해보도록 하자."
   ]
  },
  {
   "cell_type": "markdown",
   "metadata": {},
   "source": [
    "## 1. K-means 를 DataFrame 을 사용하여, 구해보자. 다음의 힌트를 사용하시오."
   ]
  },
  {
   "cell_type": "code",
   "execution_count": 8,
   "metadata": {},
   "outputs": [],
   "source": [
    "import pandas as pd\n",
    "import numpy as np\n",
    "df = pd.DataFrame({\n",
    "    'user_id':[1,2,1,3,3,],\n",
    "    'content_score':[4,1,2,3.5,2],\n",
    "})"
   ]
  },
  {
   "cell_type": "code",
   "execution_count": 9,
   "metadata": {},
   "outputs": [
    {
     "data": {
      "text/html": [
       "<div>\n",
       "<style scoped>\n",
       "    .dataframe tbody tr th:only-of-type {\n",
       "        vertical-align: middle;\n",
       "    }\n",
       "\n",
       "    .dataframe tbody tr th {\n",
       "        vertical-align: top;\n",
       "    }\n",
       "\n",
       "    .dataframe thead th {\n",
       "        text-align: right;\n",
       "    }\n",
       "</style>\n",
       "<table border=\"1\" class=\"dataframe\">\n",
       "  <thead>\n",
       "    <tr style=\"text-align: right;\">\n",
       "      <th></th>\n",
       "      <th>user_id</th>\n",
       "      <th>content_score</th>\n",
       "    </tr>\n",
       "  </thead>\n",
       "  <tbody>\n",
       "    <tr>\n",
       "      <th>0</th>\n",
       "      <td>1</td>\n",
       "      <td>4.0</td>\n",
       "    </tr>\n",
       "    <tr>\n",
       "      <th>1</th>\n",
       "      <td>2</td>\n",
       "      <td>1.0</td>\n",
       "    </tr>\n",
       "    <tr>\n",
       "      <th>2</th>\n",
       "      <td>1</td>\n",
       "      <td>2.0</td>\n",
       "    </tr>\n",
       "    <tr>\n",
       "      <th>3</th>\n",
       "      <td>3</td>\n",
       "      <td>3.5</td>\n",
       "    </tr>\n",
       "    <tr>\n",
       "      <th>4</th>\n",
       "      <td>3</td>\n",
       "      <td>2.0</td>\n",
       "    </tr>\n",
       "  </tbody>\n",
       "</table>\n",
       "</div>"
      ],
      "text/plain": [
       "   user_id  content_score\n",
       "0        1            4.0\n",
       "1        2            1.0\n",
       "2        1            2.0\n",
       "3        3            3.5\n",
       "4        3            2.0"
      ]
     },
     "execution_count": 9,
     "metadata": {},
     "output_type": "execute_result"
    }
   ],
   "source": [
    "df"
   ]
  },
  {
   "cell_type": "markdown",
   "metadata": {},
   "source": [
    "user_id 로 묶어서, 컨텐츠의 평균 점수를 구하는 코드는 아래와 같다."
   ]
  },
  {
   "cell_type": "code",
   "execution_count": 10,
   "metadata": {},
   "outputs": [
    {
     "data": {
      "text/plain": [
       "user_id\n",
       "1    3.00\n",
       "2    1.00\n",
       "3    2.75\n",
       "Name: content_score, dtype: float64"
      ]
     },
     "execution_count": 10,
     "metadata": {},
     "output_type": "execute_result"
    }
   ],
   "source": [
    "df.groupby(\"user_id\")[\"content_score\"].mean()"
   ]
  },
  {
   "cell_type": "markdown",
   "metadata": {},
   "source": [
    "참고로, 위 평균 series 를 처음 데이터프레임에 합치는 방법은 다음과 같다."
   ]
  },
  {
   "cell_type": "code",
   "execution_count": 16,
   "metadata": {},
   "outputs": [
    {
     "data": {
      "text/plain": [
       "0    3.00\n",
       "1    1.00\n",
       "2    3.00\n",
       "3    2.75\n",
       "4    2.75\n",
       "Name: content_score, dtype: float64"
      ]
     },
     "execution_count": 16,
     "metadata": {},
     "output_type": "execute_result"
    }
   ],
   "source": [
    "df['content_score'].groupby(df['user_id']).transform('mean')"
   ]
  },
  {
   "cell_type": "markdown",
   "metadata": {},
   "source": [
    "여기서부터 본인들이 할 것. pandas apply 함수를 찾아볼 것."
   ]
  },
  {
   "cell_type": "markdown",
   "metadata": {},
   "source": [
    "### K-means 로 직접 데이터의 군집을 추측하여, 색깔을 입혀 그래프로 그리시오."
   ]
  },
  {
   "cell_type": "code",
   "execution_count": 60,
   "metadata": {},
   "outputs": [],
   "source": [
    "predicted_means = np.array([[4,3],[6,4],[8,4]]) # 전체 데이터의 각 끝 점으로 추측"
   ]
  },
  {
   "cell_type": "markdown",
   "metadata": {},
   "source": [
    "아래 코드를 계속 반복해서 실행해보면 Class가 바뀌는 걸 확인할 수 있습니다."
   ]
  },
  {
   "cell_type": "code",
   "execution_count": 66,
   "metadata": {
    "scrolled": true
   },
   "outputs": [
    {
     "data": {
      "image/png": "[encoded data removed]",
      "text/plain": [
       "<Figure size 432x288 with 1 Axes>"
      ]
     },
     "metadata": {
      "needs_background": "light"
     },
     "output_type": "display_data"
    }
   ],
   "source": [
    "# 군집별 평균 값을 update하는 함수\n",
    "def updated(m):\n",
    "    predicted_means = np.array([[m.iloc[0,0],m.iloc[0,1]],[m.iloc[1,0],m.iloc[1,1]],[m.iloc[2,0],m.iloc[2,2]]])\n",
    "    return predicted_means\n",
    "\n",
    "EuclidianDistance=np.array([]).reshape(0,3)\n",
    "    \n",
    "# 각 데이터 별로 평균값과의 거리 구하는 코드\n",
    "for k in range(len(X)): \n",
    "    tempDist=np.sum((X[k,:]-predicted_means)**2,axis=1) \n",
    "    EuclidianDistance = np.vstack((EuclidianDistance,tempDist))\n",
    "        \n",
    "# 거리 중 가장 작은 값으로 Class 추정\n",
    "C=np.argmin(EuclidianDistance,axis=1)+1 \n",
    "    \n",
    "# 각 데이터마다 Class 값 붙여주기\n",
    "updated_data = pd.concat([pd.DataFrame(X[:,0:2]), pd.DataFrame(C)],axis =1)\n",
    "\n",
    "# Class 별로 그룹화 한 뒤 각 Class별 평균인 좌표 구하기\n",
    "m = updated_data.groupby(updated_data.iloc[:,2]).mean()\n",
    "\n",
    "# 각 Class별로 그래프\n",
    "plt.scatter(updated_data[updated_data.iloc[:,2] == 1].iloc[:,0],updated_data[updated_data.iloc[:,2] == 1].iloc[:,1])\n",
    "plt.scatter(updated_data[updated_data.iloc[:,2] == 2].iloc[:,0],updated_data[updated_data.iloc[:,2] == 2].iloc[:,1])\n",
    "plt.scatter(updated_data[updated_data.iloc[:,2] == 3].iloc[:,0],updated_data[updated_data.iloc[:,2] == 3].iloc[:,1])\n",
    "\n",
    "# 현재 각 Class별 평균의 좌표로 다시 update\n",
    "predicted_means = updated(m)"
   ]
  },
  {
   "cell_type": "markdown",
   "metadata": {},
   "source": [
    "대략 5-6번 정도를 반복하면 더이상 Class가 바뀌지 않는것을 확인할 수 있습니다."
   ]
  },
  {
   "cell_type": "markdown",
   "metadata": {},
   "source": [
    "## 2. 위 문제를 GMM 알고리즘을 직접 구현하여 각 좌표별로 군집단을 확률적으로 값을 구하여 출력하시오. (R,G,B 혼합색으로 표현해도 됨."
   ]
  },
  {
   "cell_type": "markdown",
   "metadata": {},
   "source": [
    "### 수업시간에 배운 GMM EM-algorithm 을 개선하여 속도를 빠르게 할 것. "
   ]
  },
  {
   "cell_type": "code",
   "execution_count": 17,
   "metadata": {},
   "outputs": [],
   "source": [
    "from scipy.stats import multivariate_normal as mvn"
   ]
  },
  {
   "cell_type": "code",
   "execution_count": 81,
   "metadata": {},
   "outputs": [],
   "source": [
    "def new_em_gmm_orig(xs, pis, mus, sigmas, tol=0.1, max_iter=500):\n",
    "\n",
    "    n, p = xs.shape\n",
    "    k = len(pis)\n",
    "\n",
    "    ll_old = 0\n",
    "    for i in range(max_iter):\n",
    "        exp_A = []\n",
    "        exp_B = []\n",
    "        ll_new = 0\n",
    "\n",
    "        # E-step\n",
    "        ws = np.zeros((k, n))\n",
    "        \n",
    "        A = np.array([])\n",
    "        A = A.reshape(-1,150)\n",
    "        a = []\n",
    "        \n",
    "        for j in range(len(mus)):\n",
    "            a = pis[j] * mvn(mus[j], sigmas[j]).pdf(xs)\n",
    "            a = a.reshape(-1,150)\n",
    "            A = np.vstack((A,a))\n",
    "    \n",
    "        sum_A = A.sum(0)\n",
    "        sum_A = sum_A.reshape(-1,150)\n",
    "        A /= sum_A\n",
    "        \n",
    "        # M-step\n",
    "        pis1 = np.zeros(k)\n",
    "        pis1 = A.sum(1)/n\n",
    "        \n",
    "        \n",
    "        mus = np.zeros((k, p))\n",
    "        A_sum = A.sum(1)\n",
    "        A_sum = A_sum.reshape(3,1)\n",
    "        mus = np.dot(A,xs)/A_sum\n",
    "        \n",
    "\n",
    "        sigmas = np.zeros((k, p, p)) \n",
    "        for j in range(k):\n",
    "            for i in range(n):\n",
    "                ys = np.reshape(xs[i]- mus[j], (2,1))\n",
    "                sigmas[j] += A[j, i] * np.dot(ys, ys.T)\n",
    "            sigmas[j] /= A[j,:].sum()\n",
    "        \n",
    "        \n",
    "            \n",
    "        # update complete log likelihoood\n",
    "        ll_new = 0.0\n",
    "        for i in range(n):\n",
    "            s = 0\n",
    "            for j in range(k):\n",
    "                s += pis[j] * mvn(mus[j], sigmas[j]).pdf(xs[i])\n",
    "            ll_new += np.log(s)\n",
    "\n",
    "        if np.abs(ll_new - ll_old) < tol:\n",
    "            break\n",
    "        ll_old = ll_new\n",
    "        \n",
    "    print(A)\n",
    "    # 각 데이터의 확률을 확인하여 높은 확률값으로 Class 추정\n",
    "    \n",
    "    mm = np.argmax(A,axis = 0)\n",
    "\n",
    "    plt.scatter(xs[np.where(mm == 0),0],xs[np.where(mm == 0),1])\n",
    "    plt.scatter(xs[np.where(mm == 1),0],xs[np.where(mm == 1),1])\n",
    "    plt.scatter(xs[np.where(mm == 2),0],xs[np.where(mm == 2),1])\n",
    "    return ll_new, pis, mus, sigmas"
   ]
  },
  {
   "cell_type": "code",
   "execution_count": 82,
   "metadata": {},
   "outputs": [],
   "source": [
    "# create data set\n",
    "n = 1000  # number of dataset \n",
    "mus = np.array([[5,3],[6,3],[8,3]])\n",
    "sigmas = np.array([[[1,0], [0,1]],[[1,0],[0,1]],[[1,0],[0,1]]])"
   ]
  },
  {
   "cell_type": "code",
   "execution_count": 87,
   "metadata": {},
   "outputs": [],
   "source": [
    "n = 1000; _mus = np.array([[0,4], [-2,0]])\n",
    "_sigmas = np.array([[[3, 0], [0, 0.5]], [[1,0],[0,2]]])"
   ]
  },
  {
   "cell_type": "code",
   "execution_count": 88,
   "metadata": {},
   "outputs": [
    {
     "data": {
      "text/plain": [
       "array([0.33333333, 0.33333333, 0.33333333])"
      ]
     },
     "execution_count": 88,
     "metadata": {},
     "output_type": "execute_result"
    }
   ],
   "source": [
    "pis = np.array([1/3,1/3,1/3])\n",
    "pis"
   ]
  },
  {
   "cell_type": "code",
   "execution_count": 89,
   "metadata": {},
   "outputs": [
    {
     "name": "stdout",
     "output_type": "stream",
     "text": [
      "[[9.96665376e-01 8.95955440e-01 9.90837802e-01 9.85833410e-01\n",
      "  9.98818715e-01 9.99655039e-01 9.96055563e-01 9.94905502e-01\n",
      "  9.67146744e-01 9.58555145e-01 9.97488254e-01 9.96775617e-01\n",
      "  9.43585119e-01 9.74465807e-01 9.98294103e-01 9.99988860e-01\n",
      "  9.99655039e-01 9.96665376e-01 9.90502968e-01 9.99631041e-01\n",
      "  9.14558212e-01 9.99293095e-01 9.97450925e-01 9.78311276e-01\n",
      "  9.96775617e-01 7.89224695e-01 9.94905502e-01 9.94433209e-01\n",
      "  9.84534466e-01 9.90837802e-01 9.75251638e-01 9.14558212e-01\n",
      "  9.99932716e-01 9.99963173e-01 9.58555145e-01 9.69868918e-01\n",
      "  9.33927854e-01 9.98882383e-01 9.78291772e-01 9.91810942e-01\n",
      "  9.97646175e-01 3.64202542e-02 9.87947979e-01 9.97646175e-01\n",
      "  9.99631041e-01 9.43585119e-01 9.99631041e-01 9.91477695e-01\n",
      "  9.98604175e-01 9.88053767e-01 1.06504903e-19 1.17508555e-10\n",
      "  1.96042626e-19 8.55909267e-10 4.03458946e-17 5.87551383e-07\n",
      "  4.12611058e-08 9.35075221e-04 2.38488098e-17 2.18839885e-03\n",
      "  1.22167195e-07 6.07918818e-07 2.39785971e-17 2.01027889e-10\n",
      "  6.17721668e-05 2.93298368e-16 5.77642204e-04 4.32622866e-09\n",
      "  1.35567282e-20 6.00839770e-09 8.47605306e-05 1.43445413e-11\n",
      "  5.37346842e-18 1.43445413e-11 2.12019478e-14 4.73481155e-16\n",
      "  4.81375357e-22 1.39633570e-17 3.28984403e-09 5.06288950e-09\n",
      "  7.23251746e-09 7.23251746e-09 4.32622866e-09 1.92755663e-11\n",
      "  2.23121233e-02 8.86451754e-04 2.93298368e-16 7.79144130e-21\n",
      "  5.77642204e-04 6.32548040e-08 5.81911271e-07 2.92518032e-09\n",
      "  3.89854775e-10 2.59821012e-05 5.82463123e-07 6.95745770e-05\n",
      "  6.53714201e-06 1.08134369e-11 2.24167748e-04 5.87551383e-07\n",
      "  4.12611058e-08 4.32622866e-09 2.17135575e-24 5.11498543e-13\n",
      "  1.39912031e-14 1.07687740e-34 6.26197012e-03 4.86836009e-30\n",
      "  6.04521909e-25 2.93480679e-17 5.02403158e-12 6.75072525e-17\n",
      "  3.55693869e-19 4.99877654e-10 5.00340305e-08 1.17508555e-10\n",
      "  1.39912031e-14 3.09888611e-23 2.62141106e-45 2.39785971e-17\n",
      "  4.69883261e-18 6.04633343e-06 4.49235984e-41 1.99131559e-15\n",
      "  1.38683847e-13 3.63000516e-23 7.29592217e-13 2.92518032e-09\n",
      "  1.23624315e-15 2.74744128e-26 4.62506420e-34 3.19895983e-27\n",
      "  1.23624315e-15 3.23243455e-14 7.60384992e-14 5.46193216e-37\n",
      "  6.64099968e-07 6.39758134e-12 4.52079992e-08 1.96042626e-19\n",
      "  2.93298368e-16 1.96042626e-19 4.32622866e-09 1.82329224e-16\n",
      "  1.38683847e-13 1.39633570e-17 5.37346842e-18 1.39912031e-14\n",
      "  8.94775579e-06 6.07918818e-07]\n",
      " [3.33461691e-03 1.03469959e-01 9.16205995e-03 1.41659667e-02\n",
      "  1.18128452e-03 3.44961326e-04 3.94443681e-03 5.09446657e-03\n",
      "  3.28413398e-02 4.14042394e-02 2.51174294e-03 3.22438111e-03\n",
      "  5.62821482e-02 2.55338476e-02 1.70589673e-03 1.11395572e-05\n",
      "  3.44961326e-04 3.33461691e-03 9.49697421e-03 3.68959496e-04\n",
      "  8.53935906e-02 7.06904824e-04 2.54907535e-03 2.16851574e-02\n",
      "  3.22438111e-03 2.08207761e-01 5.09446657e-03 5.56674800e-03\n",
      "  1.54645087e-02 9.16205995e-03 2.47392174e-02 8.53935906e-02\n",
      "  6.72842452e-05 3.68273179e-05 4.14042394e-02 3.01189200e-02\n",
      "  6.60553454e-02 1.11761666e-03 2.17073018e-02 8.18888722e-03\n",
      "  2.35382327e-03 2.28816203e-01 1.20520172e-02 2.35382327e-03\n",
      "  3.68959496e-04 5.62821482e-02 3.68959496e-04 8.52226652e-03\n",
      "  1.39582476e-03 1.19455773e-02 3.53175645e-01 3.67517497e-01\n",
      "  4.31785329e-01 3.81939744e-01 5.98630523e-01 3.71032265e-01\n",
      "  5.28544511e-01 2.31402255e-01 5.24684430e-01 4.98091904e-01\n",
      "  2.23617965e-01 4.63886513e-01 9.59689089e-01 3.50622433e-01\n",
      "  5.33679630e-01 3.51994813e-01 6.98228456e-01 3.31385284e-01\n",
      "  9.92129158e-01 3.14589467e-01 7.54315027e-01 3.69750302e-01\n",
      "  8.73012251e-01 3.69750302e-01 4.10183038e-01 4.03447076e-01\n",
      "  8.47544738e-01 4.52224186e-01 3.58161894e-01 3.21790202e-01\n",
      "  3.09703887e-01 3.09703887e-01 3.31385284e-01 3.85672440e-01\n",
      "  8.37937588e-01 9.20698764e-01 3.51994813e-01 9.86485568e-01\n",
      "  6.98228456e-01 2.82768370e-01 2.95436628e-01 3.75567197e-01\n",
      "  3.55308645e-01 1.74041770e-01 3.30997620e-01 6.11460321e-01\n",
      "  4.66911565e-01 3.56497555e-01 2.78367587e-01 3.71032265e-01\n",
      "  5.28544511e-01 3.31385284e-01 7.67213447e-01 3.76076955e-01\n",
      "  3.70074332e-01 9.85837458e-01 3.49615948e-01 9.72446335e-01\n",
      "  9.91549109e-01 1.75157057e-01 3.31834154e-01 6.70653972e-01\n",
      "  5.16595353e-01 3.61682522e-01 3.50429110e-01 3.67517497e-01\n",
      "  3.70074332e-01 7.31244557e-02 9.99998477e-01 9.59689089e-01\n",
      "  3.22701093e-01 4.06180579e-01 9.99853773e-01 5.81512240e-01\n",
      "  2.94271469e-01 4.60935389e-01 4.04195360e-01 3.75567197e-01\n",
      "  5.19617594e-01 8.43614840e-01 9.97350400e-01 6.26961335e-02\n",
      "  5.19617594e-01 4.54109127e-01 5.51191732e-01 9.93496683e-01\n",
      "  6.78463556e-01 3.37623017e-01 4.11955989e-01 4.31785329e-01\n",
      "  3.51994813e-01 4.31785329e-01 3.31385284e-01 3.05975154e-01\n",
      "  2.94271469e-01 4.52224186e-01 8.73012251e-01 3.70074332e-01\n",
      "  7.79052786e-01 4.63886513e-01]\n",
      " [7.25582382e-09 5.74601545e-04 1.38277388e-07 6.23525249e-07\n",
      "  5.17395713e-11 2.16596259e-12 1.03765889e-10 3.13860462e-08\n",
      "  1.19159518e-05 4.06156521e-05 2.67967677e-09 1.45965737e-09\n",
      "  1.32733108e-04 3.45043814e-07 3.89913751e-10 3.80200157e-18\n",
      "  2.16596259e-12 7.25582382e-09 5.74310360e-08 2.91769197e-13\n",
      "  4.81975544e-05 9.48115775e-12 1.83173143e-13 3.56690634e-06\n",
      "  1.45965737e-09 2.56754426e-03 3.13860462e-08 4.34908722e-08\n",
      "  1.02542935e-06 1.38277388e-07 9.14456493e-06 4.81975544e-05\n",
      "  2.55210498e-17 1.73414720e-16 4.06156521e-05 1.21617160e-05\n",
      "  1.68003924e-05 1.07578873e-11 9.26157306e-07 1.70437967e-07\n",
      "  1.34518946e-09 7.34763542e-01 4.00997558e-09 1.34518946e-09\n",
      "  2.91769197e-13 1.32733108e-04 2.91769197e-13 3.82439905e-08\n",
      "  3.67179075e-10 6.55481325e-07 6.46824355e-01 6.32482503e-01\n",
      "  5.68214671e-01 6.18060256e-01 4.01369477e-01 6.28967148e-01\n",
      "  4.71455448e-01 7.67662670e-01 4.75315570e-01 4.99719697e-01\n",
      "  7.76381913e-01 5.36112879e-01 4.03109107e-02 6.49377567e-01\n",
      "  4.66258598e-01 6.48005187e-01 3.01193902e-01 6.68614712e-01\n",
      "  7.87084214e-03 6.85410527e-01 2.45600212e-01 6.30249698e-01\n",
      "  1.26987749e-01 6.30249698e-01 5.89816962e-01 5.96552924e-01\n",
      "  1.52455262e-01 5.47775814e-01 6.41838103e-01 6.78209793e-01\n",
      "  6.90296106e-01 6.90296106e-01 6.68614712e-01 6.14327560e-01\n",
      "  1.39750289e-01 7.84147842e-02 6.48005187e-01 1.35144321e-02\n",
      "  3.01193902e-01 7.17231567e-01 7.04562790e-01 6.24432800e-01\n",
      "  6.44691355e-01 8.25932248e-01 6.69001797e-01 3.88470104e-01\n",
      "  5.33081898e-01 6.43502445e-01 7.21408245e-01 6.28967148e-01\n",
      "  4.71455448e-01 6.68614712e-01 2.32786553e-01 6.23923045e-01\n",
      "  6.29925668e-01 1.41625417e-02 6.44122082e-01 2.75536654e-02\n",
      "  8.45089107e-03 8.24842943e-01 6.68165846e-01 3.29346028e-01\n",
      "  4.83404647e-01 6.38317478e-01 6.49570840e-01 6.32482503e-01\n",
      "  6.29925668e-01 9.26875544e-01 1.52251184e-06 4.03109107e-02\n",
      "  6.77298907e-01 5.93813375e-01 1.46226950e-04 4.18487760e-01\n",
      "  7.05728531e-01 5.39064611e-01 5.95804640e-01 6.24432800e-01\n",
      "  4.80382406e-01 1.56385160e-01 2.64959977e-03 9.37303867e-01\n",
      "  4.80382406e-01 5.45890873e-01 4.48808268e-01 6.50331722e-03\n",
      "  3.21535780e-01 6.62376983e-01 5.88043965e-01 5.68214671e-01\n",
      "  6.48005187e-01 5.68214671e-01 6.68614712e-01 6.94024846e-01\n",
      "  7.05728531e-01 5.47775814e-01 1.26987749e-01 6.29925668e-01\n",
      "  2.20938266e-01 5.36112879e-01]]\n"
     ]
    },
    {
     "data": {
      "image/png": "[encoded data removed]",
      "text/plain": [
       "<Figure size 432x288 with 1 Axes>"
      ]
     },
     "metadata": {
      "needs_background": "light"
     },
     "output_type": "display_data"
    }
   ],
   "source": [
    "ll2, pis2, mus2, sigmas2 = new_em_gmm_orig(X, pis, mus, sigmas)"
   ]
  },
  {
   "cell_type": "code",
   "execution_count": 85,
   "metadata": {},
   "outputs": [],
   "source": [
    "def em_gmm_orig(xs, pis, mus, sigmas, tol=0.01, max_iter=500):\n",
    "\n",
    "    n, p = xs.shape\n",
    "    k = len(pis)\n",
    "\n",
    "    ll_old = 0\n",
    "    for i in range(max_iter):\n",
    "        exp_A = []\n",
    "        exp_B = []\n",
    "        ll_new = 0\n",
    "\n",
    "        # E-step\n",
    "        ws = np.zeros((k, n))\n",
    "        for j in range(len(mus)):\n",
    "            for i in range(n):\n",
    "                ws[j, i] = pis[j] * mvn(mus[j], sigmas[j]).pdf(xs[i])\n",
    "        ws /= ws.sum(0)\n",
    "\n",
    "        # M-step\n",
    "        pis = np.zeros(k)\n",
    "        for j in range(len(mus)):\n",
    "            for i in range(n):\n",
    "                pis[j] += ws[j, i]\n",
    "        pis /= n\n",
    "\n",
    "        mus = np.zeros((k, p))\n",
    "        for j in range(k):\n",
    "            for i in range(n):\n",
    "                mus[j] += ws[j, i] * xs[i]\n",
    "            mus[j] /= ws[j, :].sum()\n",
    "\n",
    "        sigmas = np.zeros((k, p, p))\n",
    "        for j in range(k):\n",
    "            for i in range(n):\n",
    "                ys = np.reshape(xs[i]- mus[j], (2,1))\n",
    "                sigmas[j] += ws[j, i] * np.dot(ys, ys.T)\n",
    "            sigmas[j] /= ws[j,:].sum()\n",
    "\n",
    "        # update complete log likelihoood\n",
    "        ll_new = 0.0\n",
    "        for i in range(n):\n",
    "            s = 0\n",
    "            for j in range(k):\n",
    "                s += pis[j] * mvn(mus[j], sigmas[j]).pdf(xs[i])\n",
    "            ll_new += np.log(s)\n",
    "\n",
    "        if np.abs(ll_new - ll_old) < tol:\n",
    "            break\n",
    "        ll_old = ll_new\n",
    "        \n",
    "        \n",
    "    print(ws)\n",
    "    mm = np.argmax(ws,axis = 0)\n",
    "    plt.scatter(xs[np.where(mm == 0),0],xs[np.where(mm == 0),1])\n",
    "    plt.scatter(xs[np.where(mm == 1),0],xs[np.where(mm == 1),1])\n",
    "    plt.scatter(xs[np.where(mm == 2),0],xs[np.where(mm == 2),1])\n",
    "\n",
    "    return ll_new, pis, mus, sigmas"
   ]
  },
  {
   "cell_type": "code",
   "execution_count": 86,
   "metadata": {},
   "outputs": [
    {
     "name": "stdout",
     "output_type": "stream",
     "text": [
      "[[9.96200575e-01 8.91070179e-01 9.90771356e-01 9.86325298e-01\n",
      "  9.98695585e-01 9.99596274e-01 9.96128113e-01 9.94338032e-01\n",
      "  9.71275490e-01 9.55923672e-01 9.96978154e-01 9.96621582e-01\n",
      "  9.42457165e-01 9.78231263e-01 9.97913352e-01 9.99987917e-01\n",
      "  9.99596274e-01 9.96200575e-01 9.88130328e-01 9.99589626e-01\n",
      "  8.97013358e-01 9.99205125e-01 9.97503953e-01 9.75295366e-01\n",
      "  9.96621582e-01 7.75970524e-01 9.94338032e-01 9.93497773e-01\n",
      "  9.81910288e-01 9.90771356e-01 9.74450188e-01 8.97013358e-01\n",
      "  9.99927195e-01 9.99958836e-01 9.55923672e-01 9.66752590e-01\n",
      "  9.18773773e-01 9.98799680e-01 9.80758314e-01 9.90651698e-01\n",
      "  9.97388560e-01 3.33265735e-02 9.89094103e-01 9.97388560e-01\n",
      "  9.99589626e-01 9.42457165e-01 9.99589626e-01 9.91705350e-01\n",
      "  9.98355417e-01 9.86743125e-01 8.70599238e-20 1.03007007e-10\n",
      "  1.60116479e-19 8.27339210e-10 3.30513733e-17 5.24564393e-07\n",
      "  3.69389689e-08 8.22016225e-04 1.95485162e-17 2.16798343e-03\n",
      "  1.20080420e-07 5.46840424e-07 2.04207697e-17 1.71295012e-10\n",
      "  5.74972262e-05 2.41408533e-16 5.23716383e-04 3.74415101e-09\n",
      "  1.09098134e-20 5.32848167e-09 7.21274418e-05 1.21933386e-11\n",
      "  4.26244012e-18 1.21933386e-11 1.76789419e-14 3.90493107e-16\n",
      "  3.57466530e-22 1.14501563e-17 2.84367028e-09 4.42125350e-09\n",
      "  6.55924734e-09 6.55924734e-09 3.74415101e-09 1.66331420e-11\n",
      "  1.99106336e-02 6.86944971e-04 2.41408533e-16 6.04911795e-21\n",
      "  5.23716383e-04 5.53969595e-08 5.10341829e-07 2.54422493e-09\n",
      "  3.42232435e-10 2.13779218e-05 5.15596016e-07 6.34032585e-05\n",
      "  5.98760928e-06 9.12146382e-12 2.02338110e-04 5.24564393e-07\n",
      "  3.69389689e-08 3.74415101e-09 1.64805937e-24 4.28627081e-13\n",
      "  1.15971183e-14 7.57064606e-35 6.11453836e-03 3.37767890e-30\n",
      "  4.31299541e-25 2.56112726e-17 4.32613130e-12 5.53315193e-17\n",
      "  2.88894338e-19 4.49685578e-10 4.38004869e-08 1.03007007e-10\n",
      "  1.15971183e-14 2.36408262e-23 1.84964047e-45 2.04207697e-17\n",
      "  3.84972503e-18 5.52642450e-06 3.14707175e-41 1.67750111e-15\n",
      "  1.19400463e-13 2.96115325e-23 6.18043844e-13 2.54422493e-09\n",
      "  1.03172047e-15 2.02672367e-26 3.17591134e-34 2.22610836e-27\n",
      "  1.03172047e-15 2.72501694e-14 6.63974399e-14 3.85871653e-37\n",
      "  5.72573015e-07 5.43217874e-12 4.00286923e-08 1.60116479e-19\n",
      "  2.41408533e-16 1.60116479e-19 3.74415101e-09 1.50292138e-16\n",
      "  1.19400463e-13 1.14501563e-17 4.26244012e-18 1.15971183e-14\n",
      "  7.38920290e-06 5.46840424e-07]\n",
      " [3.79942489e-03 1.08783087e-01 9.22863550e-03 1.36746510e-02\n",
      "  1.30441504e-03 4.03726330e-04 3.87188737e-03 5.66196655e-03\n",
      "  2.87227760e-02 4.40696296e-02 3.02184574e-03 3.37841795e-03\n",
      "  5.75148199e-02 2.17687141e-02 2.08664760e-03 1.20826322e-05\n",
      "  4.03726330e-04 3.79942489e-03 1.18696702e-02 4.10373827e-04\n",
      "  1.02980799e-01 7.94875360e-04 2.49604667e-03 2.47042841e-02\n",
      "  3.37841795e-03 2.23251645e-01 5.66196655e-03 6.50222557e-03\n",
      "  1.80896354e-02 9.22863550e-03 2.55486022e-02 1.02980799e-01\n",
      "  7.28052358e-05 4.11636773e-05 4.40696296e-02 3.32458559e-02\n",
      "  8.12246385e-02 1.20031972e-03 1.92416061e-02 9.34829243e-03\n",
      "  2.61143997e-03 1.63905733e-01 1.09058965e-02 2.61143997e-03\n",
      "  4.10373827e-04 5.75148199e-02 4.10373827e-04 8.29464803e-03\n",
      "  1.64458285e-03 1.32568251e-02 4.23399498e-01 4.62980436e-01\n",
      "  5.19687153e-01 4.07300578e-01 7.04078710e-01 4.22622700e-01\n",
      "  6.71558379e-01 1.91516361e-01 6.25895390e-01 5.47548315e-01\n",
      "  1.87989310e-01 5.62469507e-01 9.85373412e-01 4.12775797e-01\n",
      "  6.27211709e-01 4.24877688e-01 8.06096538e-01 3.68546793e-01\n",
      "  9.98130170e-01 3.31224209e-01 8.69769291e-01 4.30592348e-01\n",
      "  9.37291221e-01 4.30592348e-01 4.89746003e-01 4.85622205e-01\n",
      "  9.21093919e-01 5.44081014e-01 4.21377169e-01 3.48032963e-01\n",
      "  3.17924638e-01 3.17924638e-01 3.68546793e-01 4.43663489e-01\n",
      "  9.09747561e-01 9.74372207e-01 4.24877688e-01 9.96342109e-01\n",
      "  8.06096538e-01 2.86800200e-01 3.06169988e-01 4.53874134e-01\n",
      "  3.94580717e-01 1.35635956e-01 3.60730871e-01 7.24240796e-01\n",
      "  5.51472511e-01 4.21095346e-01 2.59511971e-01 4.22622700e-01\n",
      "  6.71558379e-01 3.68546793e-01 8.59368543e-01 4.46591599e-01\n",
      "  4.44669056e-01 9.95582338e-01 3.29950174e-01 9.90547622e-01\n",
      "  9.97939416e-01 2.11686144e-01 4.13599475e-01 7.74383333e-01\n",
      "  6.17912278e-01 3.95385990e-01 3.99325822e-01 4.62980436e-01\n",
      "  4.44669056e-01 6.99343613e-02 9.99999938e-01 9.85373412e-01\n",
      "  3.87912805e-01 4.63524249e-01 9.99983087e-01 6.82208687e-01\n",
      "  3.68119976e-01 5.48471652e-01 4.75698732e-01 4.53874134e-01\n",
      "  6.16763654e-01 9.16244483e-01 9.99456862e-01 5.28962488e-02\n",
      "  6.16763654e-01 5.38542025e-01 6.42979456e-01 9.98252917e-01\n",
      "  8.24770958e-01 4.12627584e-01 4.99569859e-01 5.19687153e-01\n",
      "  4.24877688e-01 5.19687153e-01 3.68546793e-01 3.69642300e-01\n",
      "  3.68119976e-01 5.44081014e-01 9.37291221e-01 4.44669056e-01\n",
      "  8.98872816e-01 5.62469507e-01]\n",
      " [2.29516788e-10 1.46734007e-04 8.36489788e-09 5.09659905e-08\n",
      "  6.12599910e-13 1.23431069e-14 1.28789495e-12 1.35737177e-09\n",
      "  1.73405248e-06 6.69841084e-06 6.11520874e-11 3.46748472e-11\n",
      "  2.80155839e-05 2.29235068e-08 4.67773669e-12 1.19645889e-21\n",
      "  1.23431069e-14 2.29516788e-10 1.80527316e-09 1.13491258e-15\n",
      "  5.84263923e-06 7.81600587e-14 4.98058547e-16 3.50282999e-07\n",
      "  3.46748472e-11 7.77831040e-04 1.35737177e-09 1.84947322e-09\n",
      "  7.66793702e-08 8.36489788e-09 1.20949781e-06 5.84263923e-06\n",
      "  1.21005310e-20 1.30942292e-19 6.69841084e-06 1.55445751e-06\n",
      "  1.58844572e-06 8.98394606e-14 7.94658420e-08 9.75745483e-09\n",
      "  3.12506418e-11 8.02767694e-01 1.02426377e-10 3.12506418e-11\n",
      "  1.13491258e-15 2.80155839e-05 1.13491258e-15 1.75721603e-09\n",
      "  6.04326978e-12 5.00562745e-08 5.76600502e-01 5.37019564e-01\n",
      "  4.80312847e-01 5.92699422e-01 2.95921290e-01 5.77376776e-01\n",
      "  3.28441584e-01 8.07661623e-01 3.74104610e-01 4.50283701e-01\n",
      "  8.12010570e-01 4.37529947e-01 1.46265884e-02 5.87224202e-01\n",
      "  3.72730793e-01 5.75122312e-01 1.93379745e-01 6.31453203e-01\n",
      "  1.86982966e-03 6.68775786e-01 1.30158582e-01 5.69407652e-01\n",
      "  6.27087786e-02 5.69407652e-01 5.10253997e-01 5.14377795e-01\n",
      "  7.89060807e-02 4.55918986e-01 5.78622828e-01 6.51967032e-01\n",
      "  6.82075356e-01 6.82075356e-01 6.31453203e-01 5.56336511e-01\n",
      "  7.03418051e-02 2.49408485e-02 5.75122312e-01 3.65789080e-03\n",
      "  1.93379745e-01 7.13199744e-01 6.93829501e-01 5.46125864e-01\n",
      "  6.05419283e-01 8.64342666e-01 6.39268614e-01 2.75695801e-01\n",
      "  4.48521502e-01 5.78904654e-01 7.40285691e-01 5.77376776e-01\n",
      "  3.28441584e-01 6.31453203e-01 1.40631457e-01 5.53408401e-01\n",
      "  5.55330944e-01 4.41766249e-03 6.63935287e-01 9.45237834e-03\n",
      "  2.06058371e-03 7.88313856e-01 5.86400525e-01 2.25616667e-01\n",
      "  3.82087722e-01 6.04614009e-01 6.00674135e-01 5.37019564e-01\n",
      "  5.55330944e-01 9.30065639e-01 6.24503073e-08 1.46265884e-02\n",
      "  6.12087195e-01 5.36470225e-01 1.69132366e-05 3.17791313e-01\n",
      "  6.31880024e-01 4.51528348e-01 5.24301268e-01 5.46125864e-01\n",
      "  3.83236346e-01 8.37555167e-02 5.43137947e-04 9.47103751e-01\n",
      "  3.83236346e-01 4.61457975e-01 3.57020544e-01 1.74708309e-03\n",
      "  1.75228470e-01 5.87372416e-01 5.00430101e-01 4.80312847e-01\n",
      "  5.75122312e-01 4.80312847e-01 6.31453203e-01 6.30357700e-01\n",
      "  6.31880024e-01 4.55918986e-01 6.27087786e-02 5.55330944e-01\n",
      "  1.01119795e-01 4.37529947e-01]]\n"
     ]
    },
    {
     "data": {
      "image/png": "[encoded data removed]",
      "text/plain": [
       "<Figure size 432x288 with 1 Axes>"
      ]
     },
     "metadata": {
      "needs_background": "light"
     },
     "output_type": "display_data"
    }
   ],
   "source": [
    "ll2, pis2, mus2, sigmas2 = em_gmm_orig(X, pis, mus, sigmas)"
   ]
  },
  {
   "cell_type": "code",
   "execution_count": null,
   "metadata": {},
   "outputs": [],
   "source": []
  }
 ],
 "metadata": {
  "kernelspec": {
   "display_name": "Python 3",
   "language": "python",
   "name": "python3"
  },
  "language_info": {
   "codemirror_mode": {
    "name": "ipython",
    "version": 3
   },
   "file_extension": ".py",
   "mimetype": "text/x-python",
   "name": "python",
   "nbconvert_exporter": "python",
   "pygments_lexer": "ipython3",
   "version": "3.7.1"
  }
 },
 "nbformat": 4,
 "nbformat_minor": 2
}
