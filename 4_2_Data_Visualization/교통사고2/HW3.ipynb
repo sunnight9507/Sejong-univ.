{
 "cells": [
  {
   "cell_type": "code",
   "execution_count": 1,
   "metadata": {},
   "outputs": [],
   "source": [
    "import pandas as pd"
   ]
  },
  {
   "cell_type": "code",
   "execution_count": 2,
   "metadata": {},
   "outputs": [],
   "source": [
    "data_2015 = pd.read_csv('도로교통공단_전국_사망교통사고정보(2015)_20190910.csv', encoding = 'euc-kr')\n",
    "\n",
    "data_2016 = pd.read_csv('2016년_교통사망사고정보.csv', encoding = 'euc-kr')\n",
    "\n",
    "data_2017 = pd.read_csv('도로교통공단_전국사망교통사고_2017.csv', encoding = 'euc-kr')\n",
    "\n",
    "data_2018 = pd.read_csv('도로교통공단_전국_사망교통사고정보(2018)_20190910.csv', encoding = 'euc-kr')"
   ]
  },
  {
   "cell_type": "code",
   "execution_count": 3,
   "metadata": {},
   "outputs": [
    {
     "name": "stdout",
     "output_type": "stream",
     "text": [
      "(4447, 26)\n",
      "(4119, 27)\n",
      "(4065, 27)\n",
      "(3657, 26)\n"
     ]
    }
   ],
   "source": [
    "print(data_2015.shape)\n",
    "print(data_2016.shape)\n",
    "print(data_2017.shape)\n",
    "print(data_2018.shape)"
   ]
  },
  {
   "cell_type": "code",
   "execution_count": 4,
   "metadata": {},
   "outputs": [
    {
     "data": {
      "text/plain": [
       "Index(['발생년', '발생년월일시', '발생분', '주야', '요일', '사망자수', '사상자수', '중상자수', '경상자수',\n",
       "       '부상신고자수', '발생지시도', '발생지시군구', '사고유형_대분류', '사고유형_중분류', '사고유형', '법규위반_대분류',\n",
       "       '법규위반', '도로형태_대분류', '도로형태', '당사자종별_1당_대분류', '당사자종별_1당', '당사자종별_2당_대분류',\n",
       "       '당사자종별_2당', '발생위치X_UTMK', '발생위치Y_UTMK', '경도', '위도'],\n",
       "      dtype='object')"
      ]
     },
     "execution_count": 4,
     "metadata": {},
     "output_type": "execute_result"
    }
   ],
   "source": [
    "data_2016.columns"
   ]
  },
  {
   "cell_type": "code",
   "execution_count": 5,
   "metadata": {},
   "outputs": [],
   "source": [
    "data_2016.drop(columns = '발생분', inplace = True)\n",
    "data_2017.drop(columns = '발생분', inplace = True)"
   ]
  },
  {
   "cell_type": "code",
   "execution_count": 6,
   "metadata": {},
   "outputs": [
    {
     "name": "stdout",
     "output_type": "stream",
     "text": [
      "(4447, 26)\n",
      "(4119, 26)\n",
      "(4065, 26)\n",
      "(3657, 26)\n"
     ]
    }
   ],
   "source": [
    "print(data_2015.shape)\n",
    "print(data_2016.shape)\n",
    "print(data_2017.shape)\n",
    "print(data_2018.shape)"
   ]
  },
  {
   "cell_type": "code",
   "execution_count": 7,
   "metadata": {},
   "outputs": [],
   "source": [
    "data_2016.columns = data_2015.columns\n",
    "data_2017.columns = data_2015.columns"
   ]
  },
  {
   "cell_type": "code",
   "execution_count": 8,
   "metadata": {},
   "outputs": [],
   "source": [
    "data = pd.concat([data_2015, data_2016, data_2017, data_2018])"
   ]
  },
  {
   "cell_type": "code",
   "execution_count": 9,
   "metadata": {},
   "outputs": [
    {
     "data": {
      "text/plain": [
       "Index(['발생년', '발생년월일시분', '주야', '요일', '사망자수', '사상자수', '중상자수', '경상자수', '부상신고자수',\n",
       "       '발생지시도', '발생지시군구', '사고유형_대분류', '사고유형_중분류', '사고유형', '법규위반_대분류', '법규위반',\n",
       "       '도로형태_대분류', '도로형태', '가해자_당사자종별_대분류', '가해자_당사자종별', '피해자_당사자종별_대분류',\n",
       "       '피해자_당사자종별', '발생위치X_UTMK', '발생위치Y_UTMK', '경도', '위도'],\n",
       "      dtype='object')"
      ]
     },
     "execution_count": 9,
     "metadata": {},
     "output_type": "execute_result"
    }
   ],
   "source": [
    "data.columns"
   ]
  },
  {
   "cell_type": "code",
   "execution_count": 32,
   "metadata": {},
   "outputs": [],
   "source": [
    "columns = ['발생년월일시분', '요일', '사망자수', '사상자수', '중상자수', '경상자수', '부상신고자수',\n",
    "       '발생지시도', '발생지시군구', '사고유형_대분류', '사고유형_중분류', '사고유형','법규위반','경도','위도']"
   ]
  },
  {
   "cell_type": "code",
   "execution_count": 33,
   "metadata": {},
   "outputs": [],
   "source": [
    "data = data[columns].reset_index(drop=True)\n",
    "\n",
    "data = data[data['발생지시도'] == '서울']"
   ]
  },
  {
   "cell_type": "code",
   "execution_count": 35,
   "metadata": {},
   "outputs": [],
   "source": [
    "result_1 = pd.pivot_table(data, values =['사상자수','경도','위도'],index='발생지시군구', aggfunc = {'사상자수' : 'sum',\n",
    "                                                                                           '경도' : 'mean',\n",
    "                                                                                           '위도' : 'mean'})"
   ]
  },
  {
   "cell_type": "code",
   "execution_count": 37,
   "metadata": {},
   "outputs": [],
   "source": [
    "result_1 = result_1[['위도','경도','사상자수']]"
   ]
  },
  {
   "cell_type": "code",
   "execution_count": 38,
   "metadata": {},
   "outputs": [],
   "source": [
    "result_1 = result_1.set_index('위도')"
   ]
  },
  {
   "cell_type": "code",
   "execution_count": 39,
   "metadata": {},
   "outputs": [],
   "source": [
    "result_1.to_csv('result_1')"
   ]
  },
  {
   "cell_type": "code",
   "execution_count": 52,
   "metadata": {},
   "outputs": [],
   "source": [
    "result_2 = data[data['사상자수'] > 3][['위도','경도','사상자수']].set_index('위도')\n",
    "\n",
    "result_2.to_csv('result_2')"
   ]
  }
 ],
 "metadata": {
  "kernelspec": {
   "display_name": "Python 3",
   "language": "python",
   "name": "python3"
  },
  "language_info": {
   "codemirror_mode": {
    "name": "ipython",
    "version": 3
   },
   "file_extension": ".py",
   "mimetype": "text/x-python",
   "name": "python",
   "nbconvert_exporter": "python",
   "pygments_lexer": "ipython3",
   "version": "3.7.3"
  }
 },
 "nbformat": 4,
 "nbformat_minor": 2
}
