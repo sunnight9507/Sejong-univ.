{
 "cells": [
  {
   "cell_type": "code",
   "execution_count": 2,
   "metadata": {},
   "outputs": [],
   "source": [
    "import pandas as pd\n",
    "import numpy as np\n",
    "import os.path\n",
    "import csv\n",
    "import operator"
   ]
  },
  {
   "cell_type": "code",
   "execution_count": 3,
   "metadata": {},
   "outputs": [],
   "source": [
    "# 영화 300개 자료 저장\n",
    "# User 수는 1000명\n",
    "data = {}\n",
    "movie_id = 0\n",
    "user_name = 0\n",
    "rating = 0\n",
    "user_list = []\n",
    "\n",
    "\n",
    "with open('combined_data_1.txt', 'r') as f:\n",
    "    for line in f:\n",
    "        if(line.find(\":\") != -1):\n",
    "            continue\n",
    "        line_split = line.split(',')\n",
    "        user_name = int(line_split[0])\n",
    "        if user_name in user_list:\n",
    "            continue\n",
    "        else:\n",
    "            user_list.append(user_name)\n",
    "        if len(user_list) > 1000:\n",
    "            break\n",
    "\n",
    "with open('combined_data_1.txt', 'r') as f:\n",
    "    for line in f:\n",
    "        if(line.find(\":\") != -1):\n",
    "            movie_id = int(line.replace(\":\",\"\")) - 1\n",
    "            if(movie_id >= 300): break\n",
    "            data[movie_id] = {}\n",
    "        else:\n",
    "            line_split = line.split(',')\n",
    "            user_name = int(line_split[0])\n",
    "            rating = int(line_split[1])\n",
    "            if user_name in user_list:\n",
    "                data[movie_id][user_name] = rating"
   ]
  },
  {
   "cell_type": "code",
   "execution_count": 4,
   "metadata": {},
   "outputs": [
    {
     "data": {
      "text/plain": [
       "array([[ 3., nan, nan, ..., nan,  3., nan],\n",
       "       [ 5., nan, nan, ..., nan, nan, nan],\n",
       "       [ 4., nan, nan, ..., nan, nan, nan],\n",
       "       [ 4., nan, nan, ..., nan,  4., nan],\n",
       "       [ 3., nan, nan, ..., nan, nan, nan]])"
      ]
     },
     "execution_count": 4,
     "metadata": {},
     "output_type": "execute_result"
    }
   ],
   "source": [
    "### 영화, 사용자, rating 정보를 2차원 배열에 저장\n",
    "### 1000 x 300 영화, 사용자 2차원 배열\n",
    "\n",
    "matrix = [[np.nan for col in range(300)] for row in range(1000)]\n",
    "\n",
    "for i in range(1000):\n",
    "    for j in range(300):\n",
    "        if(user_list[i] in data[j]):\n",
    "            matrix[i][j] = data[j][user_list[i]]\n",
    "        \n",
    "matrix = np.array(matrix)\n",
    "\n",
    "matrix[:5]"
   ]
  },
  {
   "cell_type": "code",
   "execution_count": 5,
   "metadata": {},
   "outputs": [],
   "source": [
    "# module 불러오기\n",
    "import module"
   ]
  },
  {
   "cell_type": "code",
   "execution_count": 6,
   "metadata": {},
   "outputs": [
    {
     "data": {
      "text/plain": [
       "array([[ 0.        , 18.22086716, 21.14237451, ..., 19.23538406,\n",
       "        19.49358869, 18.24828759],\n",
       "       [18.22086716,  0.        , 12.20655562, ..., 10.86278049,\n",
       "         9.59166305, 11.26942767],\n",
       "       [21.14237451, 12.20655562,  0.        , ..., 16.03121954,\n",
       "        15.19868415, 16.30950643],\n",
       "       ...,\n",
       "       [19.23538406, 10.86278049, 16.03121954, ...,  0.        ,\n",
       "        10.95445115, 13.07669683],\n",
       "       [19.49358869,  9.59166305, 15.19868415, ..., 10.95445115,\n",
       "         0.        , 11.78982612],\n",
       "       [18.24828759, 11.26942767, 16.30950643, ..., 13.07669683,\n",
       "        11.78982612,  0.        ]])"
      ]
     },
     "execution_count": 6,
     "metadata": {},
     "output_type": "execute_result"
    }
   ],
   "source": [
    "module.EUC(matrix)"
   ]
  },
  {
   "cell_type": "code",
   "execution_count": 7,
   "metadata": {},
   "outputs": [
    {
     "name": "stdout",
     "output_type": "stream",
     "text": [
      "COS calculation start!\n",
      "COS calculation end!\n"
     ]
    },
    {
     "data": {
      "text/plain": [
       "array([[1.        , 1.        , 0.92609236, ..., 0.96225045, 0.89442719,\n",
       "        0.83508588],\n",
       "       [1.        , 1.        , 1.        , ..., 0.        , 0.        ,\n",
       "        0.        ],\n",
       "       [0.92609236, 1.        , 1.        , ..., 0.        , 0.        ,\n",
       "        0.        ],\n",
       "       ...,\n",
       "       [0.96225045, 0.        , 0.        , ..., 1.        , 1.        ,\n",
       "        1.        ],\n",
       "       [0.89442719, 0.        , 0.        , ..., 1.        , 1.        ,\n",
       "        1.        ],\n",
       "       [0.83508588, 0.        , 0.        , ..., 1.        , 1.        ,\n",
       "        1.        ]])"
      ]
     },
     "execution_count": 7,
     "metadata": {},
     "output_type": "execute_result"
    }
   ],
   "source": [
    "module.COS(matrix)"
   ]
  },
  {
   "cell_type": "code",
   "execution_count": 8,
   "metadata": {},
   "outputs": [
    {
     "name": "stdout",
     "output_type": "stream",
     "text": [
      "PCC calculation start!\n",
      "PCC calculation end!\n"
     ]
    },
    {
     "data": {
      "text/plain": [
       "array([[-1.        ,  0.        , -0.95921363, ...,  0.24485105,\n",
       "         0.81373347, -0.13612723],\n",
       "       [ 0.        , -1.        ,  0.        , ...,  0.        ,\n",
       "         0.        ,  0.        ],\n",
       "       [-0.95921363,  0.        , -1.        , ...,  0.        ,\n",
       "         0.        ,  0.        ],\n",
       "       ...,\n",
       "       [ 0.24485105,  0.        ,  0.        , ..., -1.        ,\n",
       "         1.        , -1.        ],\n",
       "       [ 0.81373347,  0.        ,  0.        , ...,  1.        ,\n",
       "        -1.        , -1.        ],\n",
       "       [-0.13612723,  0.        ,  0.        , ..., -1.        ,\n",
       "        -1.        , -1.        ]])"
      ]
     },
     "execution_count": 8,
     "metadata": {},
     "output_type": "execute_result"
    }
   ],
   "source": [
    "module.PCC(matrix)"
   ]
  },
  {
   "cell_type": "code",
   "execution_count": 9,
   "metadata": {},
   "outputs": [
    {
     "name": "stdout",
     "output_type": "stream",
     "text": [
      "PCC calculation start!\n",
      "PCC calculation end!\n"
     ]
    },
    {
     "data": {
      "text/plain": [
       "array([[0.        , 2.33333333, 1.        , ..., 0.        , 0.66666667,\n",
       "        0.        ],\n",
       "       [0.        , 0.        , 0.        , ..., 0.        , 0.        ,\n",
       "        0.        ],\n",
       "       [2.        , 0.        , 1.66666667, ..., 0.        , 1.33333333,\n",
       "        0.        ],\n",
       "       ...,\n",
       "       [0.66666667, 0.        , 2.66666667, ..., 0.66666667, 2.66666667,\n",
       "        0.        ],\n",
       "       [0.        , 0.        , 4.66666667, ..., 0.        , 1.        ,\n",
       "        0.        ],\n",
       "       [3.        , 0.        , 1.        , ..., 0.        , 0.        ,\n",
       "        0.        ]])"
      ]
     },
     "execution_count": 9,
     "metadata": {},
     "output_type": "execute_result"
    }
   ],
   "source": [
    "module.basic_CF(matrix, 'PCC', 3)"
   ]
  },
  {
   "cell_type": "code",
   "execution_count": 10,
   "metadata": {},
   "outputs": [
    {
     "name": "stdout",
     "output_type": "stream",
     "text": [
      "COS calculation start!\n",
      "COS calculation end!\n"
     ]
    },
    {
     "data": {
      "text/plain": [
       "array([[1.        , 0.        , 2.33333333, ..., 0.        , 1.        ,\n",
       "        0.        ],\n",
       "       [4.        , 0.        , 0.        , ..., 0.        , 2.        ,\n",
       "        0.        ],\n",
       "       [4.33333333, 0.        , 0.        , ..., 0.        , 0.        ,\n",
       "        0.        ],\n",
       "       ...,\n",
       "       [1.33333333, 0.        , 2.66666667, ..., 0.        , 2.        ,\n",
       "        0.        ],\n",
       "       [0.        , 0.        , 3.33333333, ..., 0.        , 0.        ,\n",
       "        0.        ],\n",
       "       [0.        , 0.        , 3.66666667, ..., 0.        , 0.        ,\n",
       "        0.        ]])"
      ]
     },
     "execution_count": 10,
     "metadata": {},
     "output_type": "execute_result"
    }
   ],
   "source": [
    "module.basic_CF(matrix, 'COS', 3)"
   ]
  },
  {
   "cell_type": "code",
   "execution_count": 11,
   "metadata": {},
   "outputs": [
    {
     "name": "stdout",
     "output_type": "stream",
     "text": [
      "PCC calculation start!\n",
      "PCC calculation end!\n"
     ]
    },
    {
     "data": {
      "text/plain": [
       "array([[-0.30645161,  2.02688172,  0.69354839, ..., -0.30645161,\n",
       "         0.36021505, -0.30645161],\n",
       "       [ 0.        ,  0.        ,  0.        , ...,  0.        ,\n",
       "         0.        ,  0.        ],\n",
       "       [ 2.74603175,  0.74603175,  2.41269841, ...,  0.74603175,\n",
       "         2.07936508,  0.74603175],\n",
       "       ...,\n",
       "       [ 0.83549784,  0.16883117,  2.83549784, ...,  0.83549784,\n",
       "         2.83549784,  0.16883117],\n",
       "       [-0.20277778, -0.20277778,  4.46388889, ..., -0.20277778,\n",
       "         0.79722222, -0.20277778],\n",
       "       [ 2.68333333, -0.31666667,  0.68333333, ..., -0.31666667,\n",
       "        -0.31666667, -0.31666667]])"
      ]
     },
     "execution_count": 11,
     "metadata": {},
     "output_type": "execute_result"
    }
   ],
   "source": [
    "module.basic_mean(matrix, 'PCC', 3)"
   ]
  },
  {
   "cell_type": "code",
   "execution_count": 12,
   "metadata": {},
   "outputs": [
    {
     "name": "stdout",
     "output_type": "stream",
     "text": [
      "COS calculation start!\n",
      "COS calculation end!\n"
     ]
    },
    {
     "data": {
      "text/plain": [
       "array([[ 0.78243728, -0.21756272,  2.11577061, ..., -0.21756272,\n",
       "         0.78243728, -0.21756272],\n",
       "       [ 5.35770609,  1.35770609,  1.35770609, ...,  1.35770609,\n",
       "         3.35770609,  1.35770609],\n",
       "       [ 4.18518519, -0.14814815, -0.14814815, ..., -0.14814815,\n",
       "        -0.14814815, -0.14814815],\n",
       "       ...,\n",
       "       [ 1.15584416, -0.17748918,  2.48917749, ..., -0.17748918,\n",
       "         1.82251082, -0.17748918],\n",
       "       [ 0.48333333,  0.48333333,  3.81666667, ...,  0.48333333,\n",
       "         0.48333333,  0.48333333],\n",
       "       [-0.08333333, -0.08333333,  3.58333333, ..., -0.08333333,\n",
       "        -0.08333333, -0.08333333]])"
      ]
     },
     "execution_count": 12,
     "metadata": {},
     "output_type": "execute_result"
    }
   ],
   "source": [
    "module.basic_mean(matrix, 'COS', 3)"
   ]
  },
  {
   "cell_type": "code",
   "execution_count": 13,
   "metadata": {},
   "outputs": [
    {
     "name": "stdout",
     "output_type": "stream",
     "text": [
      "PCC calculation start!\n",
      "PCC calculation end!\n"
     ]
    },
    {
     "data": {
      "text/plain": [
       "array([[-1.96330077,  1.92915628, -0.8633055 , ..., -1.96330077,\n",
       "        -0.80380395, -1.96330077],\n",
       "       [ 0.        ,  0.        ,  0.        , ...,  0.        ,\n",
       "         0.        ,  0.        ],\n",
       "       [ 2.85768075,  0.48252984,  1.96401133, ...,  0.48252984,\n",
       "         1.79428947,  0.48252984],\n",
       "       ...,\n",
       "       [-0.24695491, -0.7950151 ,  3.05648103, ..., -0.24695491,\n",
       "         3.05648103, -0.7950151 ],\n",
       "       [-1.20722462, -1.20722462,  4.62154586, ..., -1.20722462,\n",
       "        -0.09386082, -1.20722462],\n",
       "       [ 0.93153485, -4.48709194, -1.52905204, ..., -4.48709194,\n",
       "        -4.48709194, -4.48709194]])"
      ]
     },
     "execution_count": 13,
     "metadata": {},
     "output_type": "execute_result"
    }
   ],
   "source": [
    "module.basic_zscore(matrix, 'PCC', 3)"
   ]
  },
  {
   "cell_type": "code",
   "execution_count": 14,
   "metadata": {},
   "outputs": [
    {
     "name": "stdout",
     "output_type": "stream",
     "text": [
      "COS calculation start!\n",
      "COS calculation end!\n"
     ]
    },
    {
     "data": {
      "text/plain": [
       "array([[-1.21864809, -2.08827071,  2.3431725 , ..., -2.08827071,\n",
       "         0.11171983, -2.08827071],\n",
       "       [ 5.        ,  5.        ,  5.        , ...,  5.        ,\n",
       "         5.        ,  5.        ],\n",
       "       [ 4.19561403,  3.47719282,  3.47719282, ...,  3.47719282,\n",
       "         3.47719282,  3.47719282],\n",
       "       ...,\n",
       "       [ 1.32129454,  0.24632684,  2.76448963, ...,  0.24632684,\n",
       "         3.30197348,  0.24632684],\n",
       "       [-0.11749265, -0.11749265,  4.06759214, ..., -0.11749265,\n",
       "        -0.11749265, -0.11749265],\n",
       "       [ 1.12613698,  1.12613698,  3.90990215, ...,  1.12613698,\n",
       "         1.12613698,  1.12613698]])"
      ]
     },
     "execution_count": 14,
     "metadata": {},
     "output_type": "execute_result"
    }
   ],
   "source": [
    "module.basic_zscore(matrix, 'COS', 3)"
   ]
  },
  {
   "cell_type": "code",
   "execution_count": 15,
   "metadata": {},
   "outputs": [
    {
     "name": "stdout",
     "output_type": "stream",
     "text": [
      "PCC calculation start!\n",
      "PCC calculation end!\n"
     ]
    },
    {
     "data": {
      "text/plain": [
       "array([[0.00000000e+00, 2.33333333e+00, 1.00000000e+00, ...,\n",
       "        0.00000000e+00, 6.66666667e-01, 0.00000000e+00],\n",
       "       [0.00000000e+00, 0.00000000e+00, 0.00000000e+00, ...,\n",
       "        0.00000000e+00, 0.00000000e+00, 0.00000000e+00],\n",
       "       [2.00000000e+00, 0.00000000e+00, 1.66666667e+00, ...,\n",
       "        0.00000000e+00, 1.33333333e+00, 0.00000000e+00],\n",
       "       ...,\n",
       "       [6.66666667e-01, 4.44089210e-16, 2.66666667e+00, ...,\n",
       "        6.66666667e-01, 2.66666667e+00, 4.44089210e-16],\n",
       "       [0.00000000e+00, 0.00000000e+00, 4.66666667e+00, ...,\n",
       "        0.00000000e+00, 1.00000000e+00, 0.00000000e+00],\n",
       "       [3.00000000e+00, 0.00000000e+00, 1.00000000e+00, ...,\n",
       "        0.00000000e+00, 0.00000000e+00, 0.00000000e+00]])"
      ]
     },
     "execution_count": 15,
     "metadata": {},
     "output_type": "execute_result"
    }
   ],
   "source": [
    "module.basic_baseline(matrix, 'PCC', 3)"
   ]
  },
  {
   "cell_type": "code",
   "execution_count": 16,
   "metadata": {},
   "outputs": [
    {
     "name": "stdout",
     "output_type": "stream",
     "text": [
      "COS calculation start!\n",
      "COS calculation end!\n"
     ]
    },
    {
     "data": {
      "text/plain": [
       "array([[ 1.00000000e+00,  0.00000000e+00,  2.33333333e+00, ...,\n",
       "         0.00000000e+00,  1.00000000e+00,  0.00000000e+00],\n",
       "       [ 4.00000000e+00,  0.00000000e+00,  0.00000000e+00, ...,\n",
       "         0.00000000e+00,  2.00000000e+00,  0.00000000e+00],\n",
       "       [ 4.33333333e+00,  0.00000000e+00,  0.00000000e+00, ...,\n",
       "         0.00000000e+00,  0.00000000e+00,  0.00000000e+00],\n",
       "       ...,\n",
       "       [ 1.33333333e+00,  0.00000000e+00,  2.66666667e+00, ...,\n",
       "         0.00000000e+00,  2.00000000e+00,  0.00000000e+00],\n",
       "       [ 0.00000000e+00,  0.00000000e+00,  3.33333333e+00, ...,\n",
       "         0.00000000e+00,  0.00000000e+00,  0.00000000e+00],\n",
       "       [ 0.00000000e+00, -4.44089210e-16,  3.66666667e+00, ...,\n",
       "         0.00000000e+00,  0.00000000e+00,  0.00000000e+00]])"
      ]
     },
     "execution_count": 16,
     "metadata": {},
     "output_type": "execute_result"
    }
   ],
   "source": [
    "module.basic_baseline(matrix, 'COS', 3)"
   ]
  }
 ],
 "metadata": {
  "kernelspec": {
   "display_name": "Python 3",
   "language": "python",
   "name": "python3"
  },
  "language_info": {
   "codemirror_mode": {
    "name": "ipython",
    "version": 3
   },
   "file_extension": ".py",
   "mimetype": "text/x-python",
   "name": "python",
   "nbconvert_exporter": "python",
   "pygments_lexer": "ipython3",
   "version": "3.7.4"
  }
 },
 "nbformat": 4,
 "nbformat_minor": 2
}
